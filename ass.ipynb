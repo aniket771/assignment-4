{
 "cells": [
  {
   "cell_type": "code",
   "execution_count": 9,
   "id": "1d3a4762-cdb8-4515-929a-42593a6c654b",
   "metadata": {},
   "outputs": [
    {
     "name": "stdout",
     "output_type": "stream",
     "text": [
      "1\n",
      "2\n",
      "3\n",
      "4\n",
      "5\n"
     ]
    }
   ],
   "source": [
    "# Question 1 print number from 1 to 5 useing a while looop\n",
    "a = 1\n",
    "n = 5\n",
    "while a<= n:\n",
    "    print(a)\n",
    "    a = a+ 1"
   ]
  },
  {
   "cell_type": "code",
   "execution_count": 10,
   "id": "79f62457-e009-4d0d-a5f3-e9003aa81594",
   "metadata": {},
   "outputs": [
    {
     "name": "stdout",
     "output_type": "stream",
     "text": [
      "the sum of number from 1 to 10 is 60\n"
     ]
    }
   ],
   "source": [
    "#Question2= calculate the sum of number useing a while loop\n",
    "numbers=[1,2,3,4,5]\n",
    "total=0\n",
    "count=0\n",
    "while count < len(numbers):\n",
    "    sum_1 += numbers[count]\n",
    "    count += 1\n",
    "print(\"the sum of number from 1 to 10 is\" ,sum_1)"
   ]
  },
  {
   "cell_type": "code",
   "execution_count": 4,
   "id": "3b3e7edc-7b31-47d0-8cb7-cb22d418a7b8",
   "metadata": {},
   "outputs": [
    {
     "name": "stdout",
     "output_type": "stream",
     "text": [
      "the factorial of 10 is 3628800\n"
     ]
    }
   ],
   "source": [
    "#Question3=calculate the factorial of number useing a while loop\n",
    "num = 10\n",
    "factorial = 1\n",
    "count= 1\n",
    "while count<= num:\n",
    "    factorial*= count\n",
    "    count += 1\n",
    "print(\"the factorial of 10 is\",factorial)"
   ]
  },
  {
   "cell_type": "code",
   "execution_count": null,
   "id": "313635bb-0fee-42c8-8b4e-e6e5e5c98787",
   "metadata": {},
   "outputs": [],
   "source": [
    "#Question 4 =count the number of vowels in a string useing a loop\n",
    "str_ = input(\"  enter your name\")\n",
    "vowels =(\"a\",\"e\",\"i\",\"o\",\"u\")\n",
    "vowels_no = 0\n",
    "word=0\n",
    "while word < len(str_):\n",
    "    if str_[word] in vowels:\n",
    "        vovel_no += 1\n",
    "    word += 1\n",
    "print(\"number of vovels =\",vowels_no)  "
   ]
  },
  {
   "cell_type": "code",
   "execution_count": 8,
   "id": "d9159684-a3fb-4f40-bd05-ea3943066e17",
   "metadata": {},
   "outputs": [
    {
     "name": "stdout",
     "output_type": "stream",
     "text": [
      "1\n",
      "12\n",
      "123\n",
      "1234\n",
      "12345\n"
     ]
    }
   ],
   "source": [
    "#Question 5 =print a pattern useing nested loops\n",
    "row = 5\n",
    "\n",
    "for i in range(1, row + 1):\n",
    "    for j in range(1, i+1):\n",
    "        print(j,end=\"\")\n",
    "    print()"
   ]
  },
  {
   "cell_type": "code",
   "execution_count": null,
   "id": "31c7e7c8-a8f7-4e33-99f8-03ed4f3b403e",
   "metadata": {},
   "outputs": [],
   "source": [
    "#Question 6 = generate a multiplication table useing nested loops\n"
   ]
  },
  {
   "cell_type": "code",
   "execution_count": 14,
   "id": "d7e29c8c-b316-40fd-8613-a6429d88a6d6",
   "metadata": {},
   "outputs": [
    {
     "name": "stdout",
     "output_type": "stream",
     "text": [
      "123456789\n",
      "24681012141618\n",
      "369121518212427\n",
      "4812162024283236\n",
      "51015202530354045\n",
      "61218243036424854\n",
      "71421283542495663\n",
      "81624324048566472\n",
      "91827364554637281\n"
     ]
    }
   ],
   "source": [
    "for i in range(1,10):\n",
    "    for j in range(1,10):\n",
    "        print(i*j, end=\"\")\n",
    "    print()"
   ]
  },
  {
   "cell_type": "code",
   "execution_count": null,
   "id": "a15b6984-ab2b-4e71-96aa-7f327efb0e32",
   "metadata": {},
   "outputs": [],
   "source": []
  }
 ],
 "metadata": {
  "kernelspec": {
   "display_name": "Python 3 (ipykernel)",
   "language": "python",
   "name": "python3"
  },
  "language_info": {
   "codemirror_mode": {
    "name": "ipython",
    "version": 3
   },
   "file_extension": ".py",
   "mimetype": "text/x-python",
   "name": "python",
   "nbconvert_exporter": "python",
   "pygments_lexer": "ipython3",
   "version": "3.10.8"
  }
 },
 "nbformat": 4,
 "nbformat_minor": 5
}
